{
 "cells": [
  {
   "cell_type": "code",
   "execution_count": 78,
   "id": "3fba91ee-c385-4083-b3f1-99e75468c85e",
   "metadata": {},
   "outputs": [],
   "source": [
    "import numpy as np"
   ]
  },
  {
   "cell_type": "code",
   "execution_count": 79,
   "id": "05a37ab8-a12e-4b84-b80f-8f957b26393d",
   "metadata": {},
   "outputs": [
    {
     "name": "stdout",
     "output_type": "stream",
     "text": [
      "Array: [0 1 2 3 4 5]\n",
      "Data type: int32\n"
     ]
    }
   ],
   "source": [
    "#Que = 1\n",
    "arr = np.arange(6) \n",
    "print(\"Array:\", arr)\n",
    "print(\"Data type:\", arr.dtype)\n"
   ]
  },
  {
   "cell_type": "code",
   "execution_count": 80,
   "id": "1784e63f-99d6-432b-a76a-93ea31579f2a",
   "metadata": {},
   "outputs": [
    {
     "name": "stdout",
     "output_type": "stream",
     "text": [
      "The array data type is float64.\n"
     ]
    }
   ],
   "source": [
    "#Que = 2\n",
    "arr = np.array([1.0, 2.0, 3.0])\n",
    "if arr.dtype == np.float64:\n",
    "    print(\"The array data type is float64.\")\n",
    "else:\n",
    "    print(\"The array data type is not float64.\")"
   ]
  },
  {
   "cell_type": "code",
   "execution_count": 81,
   "id": "93ba27a0-59e7-4500-b376-17d1964f02c8",
   "metadata": {},
   "outputs": [
    {
     "name": "stdout",
     "output_type": "stream",
     "text": [
      "Complex Array: [1.+2.j 3.+4.j 5.+6.j]\n",
      "Data type: complex128\n"
     ]
    }
   ],
   "source": [
    "#Que = 3\n",
    "arr = np.array([1+2j, 3+4j, 5+6j], dtype=np.complex128)\n",
    "print(\"Complex Array:\", arr)\n",
    "print(\"Data type:\", arr.dtype)"
   ]
  },
  {
   "cell_type": "code",
   "execution_count": 82,
   "id": "b9c9c9df-779a-40e3-b073-8f8c06fe448b",
   "metadata": {},
   "outputs": [
    {
     "name": "stdout",
     "output_type": "stream",
     "text": [
      "Convert into float32: [1. 2. 3. 4.]\n",
      "Data type: float32\n"
     ]
    }
   ],
   "source": [
    "# Que = 4\n",
    "int_arr = np.array([1, 2, 3, 4])\n",
    "float_arr = int_arr.astype(np.float32)\n",
    "print(\"Convert into float32:\", float_arr)\n",
    "print(\"Data type:\", float_arr.dtype)"
   ]
  },
  {
   "cell_type": "code",
   "execution_count": 83,
   "id": "c228b5c9-5ad9-4cf0-9fc8-c7cac0a8c720",
   "metadata": {},
   "outputs": [
    {
     "name": "stdout",
     "output_type": "stream",
     "text": [
      "Converted to float32: [1.1234568 2.9876542]\n",
      "Original dtype: float64\n",
      "New dtype: float32\n"
     ]
    }
   ],
   "source": [
    "#Que = 5\n",
    "float64_arr = np.array([1.123456789, 2.987654321], dtype=np.float64)\n",
    "float32_arr = float64_arr.astype(np.float32)\n",
    "print(\"Converted to float32:\", float32_arr)\n",
    "print(\"Original dtype:\", float64_arr.dtype)\n",
    "print(\"New dtype:\", float32_arr.dtype)"
   ]
  },
  {
   "cell_type": "code",
   "execution_count": 84,
   "id": "920734a6-044d-413d-8f87-23b7f1e4322d",
   "metadata": {},
   "outputs": [
    {
     "name": "stdout",
     "output_type": "stream",
     "text": [
      "Attributes: ((2, 2), 4, dtype('int32'))\n"
     ]
    }
   ],
   "source": [
    "#Que = 6\n",
    "def array_attributes(arr):\n",
    "    return arr.shape, arr.size, arr.dtype\n",
    "a = np.array([[1, 2], [3, 4]])\n",
    "print(\"Attributes:\", array_attributes(a))"
   ]
  },
  {
   "cell_type": "code",
   "execution_count": 85,
   "id": "53484e4e-1e0d-47fb-9451-dd619ca32c0e",
   "metadata": {},
   "outputs": [
    {
     "name": "stdout",
     "output_type": "stream",
     "text": [
      "Dimensions: 3\n"
     ]
    }
   ],
   "source": [
    "#Que = 7\n",
    "def array_dimension(arr):\n",
    "    return arr.ndim\n",
    "b = np.array([[[1, 2], [3, 4]]])\n",
    "print(\"Dimensions:\", array_dimension(b))"
   ]
  },
  {
   "cell_type": "code",
   "execution_count": 86,
   "id": "40c53083-2c1a-4b37-8be5-408c1b00563e",
   "metadata": {},
   "outputs": [
    {
     "name": "stdout",
     "output_type": "stream",
     "text": [
      "Item size and total size: (4, 12)\n"
     ]
    }
   ],
   "source": [
    "#Que = 8\n",
    "def item_size_info(arr):\n",
    "    return arr.itemsize, arr.nbytes\n",
    "c = np.array([1, 2, 3], dtype=np.int32)\n",
    "print(\"Item size and total size:\", item_size_info(c))"
   ]
  },
  {
   "cell_type": "code",
   "execution_count": 87,
   "id": "11202b26-205a-4242-ae3f-6a66338a1e56",
   "metadata": {},
   "outputs": [
    {
     "name": "stdout",
     "output_type": "stream",
     "text": [
      "Strides: (8, 4)\n"
     ]
    }
   ],
   "source": [
    "# Que = 9\n",
    "def array_strides(arr):\n",
    "    return arr.strides\n",
    "d = np.array([[1, 2], [3, 4]])\n",
    "print(\"Strides:\", array_strides(d))"
   ]
  },
  {
   "cell_type": "code",
   "execution_count": 88,
   "id": "82a4029e-2315-456a-a804-bf19974ad9fa",
   "metadata": {},
   "outputs": [
    {
     "name": "stdout",
     "output_type": "stream",
     "text": [
      "Shape: (2, 3)\n",
      "Strides: (12, 4)\n"
     ]
    }
   ],
   "source": [
    "#Que = 10\n",
    "def shape_stride_relationship(arr):\n",
    "    return arr.shape, arr.strides\n",
    "arr = np.array([[1, 2, 3], [4, 5, 6]])\n",
    "shape, strides = shape_stride_relationship(arr)\n",
    "print(\"Shape:\", shape)\n",
    "print(\"Strides:\", strides)"
   ]
  },
  {
   "cell_type": "code",
   "execution_count": 89,
   "id": "5d36e261-88f6-4e3c-bce3-29ec0be5aaaf",
   "metadata": {},
   "outputs": [
    {
     "name": "stdout",
     "output_type": "stream",
     "text": [
      "Zeros array: [0. 0. 0. 0. 0.]\n"
     ]
    }
   ],
   "source": [
    "#Que = 11\n",
    "def create_zeros_array(n):\n",
    "    return np.zeros(n)\n",
    "print(\"Zeros array:\", create_zeros_array(5))"
   ]
  },
  {
   "cell_type": "code",
   "execution_count": 90,
   "id": "329c1297-23a5-4a6d-b929-019cf64103ab",
   "metadata": {},
   "outputs": [
    {
     "name": "stdout",
     "output_type": "stream",
     "text": [
      "Ones matrix\n",
      ": [[1. 1. 1. 1.]\n",
      " [1. 1. 1. 1.]\n",
      " [1. 1. 1. 1.]]\n"
     ]
    }
   ],
   "source": [
    "#Que = 12\n",
    "def create_ones_matrix(rows, cols):\n",
    "    return np.ones((rows, cols))\n",
    "print(\"Ones matrix\\n:\", create_ones_matrix(3, 4))"
   ]
  },
  {
   "cell_type": "code",
   "execution_count": 91,
   "id": "6ae75e51-f1d4-4d6d-93ea-3c671d16724b",
   "metadata": {},
   "outputs": [
    {
     "name": "stdout",
     "output_type": "stream",
     "text": [
      "Ranged array: [0 2 4 6 8]\n"
     ]
    }
   ],
   "source": [
    "#Que = 13\n",
    "def generate_range_array(start, stop, step):\n",
    "    return np.arange(start, stop, step)\n",
    "print(\"Ranged array:\", generate_range_array(0, 10, 2))"
   ]
  },
  {
   "cell_type": "code",
   "execution_count": 92,
   "id": "60e18884-2942-42d4-a98f-23f772937b02",
   "metadata": {},
   "outputs": [
    {
     "name": "stdout",
     "output_type": "stream",
     "text": [
      "Linear space array: [1. 2. 3. 4. 5.]\n"
     ]
    }
   ],
   "source": [
    "#Que = 14\n",
    "def generate_linear_space(start, stop, num):\n",
    "    return np.linspace(start, stop, num)\n",
    "print(\"Linear space array:\", generate_linear_space(1, 5, 5))"
   ]
  },
  {
   "cell_type": "code",
   "execution_count": 93,
   "id": "6a4af590-5f02-4de2-b072-97eacede2c48",
   "metadata": {},
   "outputs": [
    {
     "name": "stdout",
     "output_type": "stream",
     "text": [
      "Identity matrix:\n",
      " [[1. 0. 0. 0.]\n",
      " [0. 1. 0. 0.]\n",
      " [0. 0. 1. 0.]\n",
      " [0. 0. 0. 1.]]\n"
     ]
    }
   ],
   "source": [
    "#Que = 15\n",
    "def create_identity_matrix(n):\n",
    "    return np.identity(n)\n",
    "print(\"Identity matrix:\\n\", create_identity_matrix(4))"
   ]
  },
  {
   "cell_type": "code",
   "execution_count": 94,
   "id": "f0792b9d-e5b4-46ee-a22d-fa87640328ac",
   "metadata": {},
   "outputs": [
    {
     "name": "stdout",
     "output_type": "stream",
     "text": [
      "Numpy array: [1 2 3 4]\n"
     ]
    }
   ],
   "source": [
    "#Que = 16\n",
    "def list_to_numpy_array(py_list):\n",
    "    return np.array(py_list)\n",
    "print(\"Numpy array:\", list_to_numpy_array([1, 2, 3, 4]))"
   ]
  },
  {
   "cell_type": "code",
   "execution_count": 95,
   "id": "0739470d-0dad-4b14-b079-72c122cdb66f",
   "metadata": {},
   "outputs": [
    {
     "name": "stdout",
     "output_type": "stream",
     "text": [
      "View array: [10 20 30 40]\n"
     ]
    }
   ],
   "source": [
    "#Que = 17\n",
    "a = np.array([10, 20, 30, 40])\n",
    "a1 = a.view()\n",
    "print(\"View array:\", a1)"
   ]
  },
  {
   "cell_type": "code",
   "execution_count": 96,
   "id": "09bda058-863c-49e8-bd4f-2ad589d9edc9",
   "metadata": {},
   "outputs": [
    {
     "name": "stdout",
     "output_type": "stream",
     "text": [
      "[1 2 3 6 7 8]\n"
     ]
    }
   ],
   "source": [
    "#Que = 18\n",
    "def concatenate_arrays(arr1, arr2, axis=0):\n",
    "    return np.concatenate((arr1, arr2), axis=axis)\n",
    "print(concatenate_arrays([1,2,3],[6,7,8]))"
   ]
  },
  {
   "cell_type": "code",
   "execution_count": 97,
   "id": "c461df02-691d-45d4-9b14-4bad7f1a901b",
   "metadata": {},
   "outputs": [
    {
     "name": "stdout",
     "output_type": "stream",
     "text": [
      "[[1 2 3 4 9 7 6 8]]\n"
     ]
    }
   ],
   "source": [
    "#Que = 19\n",
    "def horizontal_concatenate(arr1, arr2):\n",
    "    return np.concatenate((arr1, arr2), axis=1)\n",
    "print(horizontal_concatenate([[1,2,3,4]],[[9,7,6,8]])) "
   ]
  },
  {
   "cell_type": "code",
   "execution_count": 98,
   "id": "c0d5e77e-7457-4196-8b0c-f8359d3a2bc3",
   "metadata": {},
   "outputs": [
    {
     "name": "stdout",
     "output_type": "stream",
     "text": [
      "[[1]\n",
      " [3]\n",
      " [4]]\n"
     ]
    }
   ],
   "source": [
    "#Que = 20\n",
    "def vertical_stack(arrays):\n",
    "     return np.vstack(arrays)\n",
    "print(vertical_stack([1,3,4]))"
   ]
  },
  {
   "cell_type": "code",
   "execution_count": 99,
   "id": "e33487a3-7dfb-4cc5-bf44-525014266a40",
   "metadata": {},
   "outputs": [],
   "source": [
    "import numpy as np\n",
    "import pandas as pd"
   ]
  },
  {
   "cell_type": "code",
   "execution_count": 100,
   "id": "71cfccef-547d-487b-a0c6-eb384bbe47df",
   "metadata": {},
   "outputs": [
    {
     "name": "stdout",
     "output_type": "stream",
     "text": [
      "   Column1  Column2  Column3\n",
      "0       47       53       26\n",
      "1       39       31       21\n",
      "2       10       53       62\n",
      "3       82       40       77\n",
      "4       91       68       96\n"
     ]
    }
   ],
   "source": [
    "#Que = 24\n",
    "data = np.random.randint(1, 101, size=(5, 3))\n",
    "df = pd.DataFrame(data, columns=['Column1', 'Column2', 'Column3'])\n",
    "print(df)"
   ]
  },
  {
   "cell_type": "code",
   "execution_count": 101,
   "id": "e617b855-0da2-4e28-a730-aa8ce7932997",
   "metadata": {},
   "outputs": [
    {
     "name": "stdout",
     "output_type": "stream",
     "text": [
      "    A\n",
      "0  10\n",
      "1   0\n",
      "2   7\n",
      "3   0\n",
      "4  15\n"
     ]
    }
   ],
   "source": [
    "#Que = 25\n",
    "def replace_negatives_with_zero(df, a):\n",
    "    df[a] = np.where(df[a] < 0, 0, df[a])\n",
    "    return df\n",
    "data = {\n",
    "    'A': [10, -5, 7, -2, 15],}\n",
    "df = pd.DataFrame(data)\n",
    "df = replace_negatives_with_zero(df, 'A')\n",
    "\n",
    "print(df)\n"
   ]
  },
  {
   "cell_type": "code",
   "execution_count": 102,
   "id": "129fc716-4dbb-4059-9fff-18e8ad851cf9",
   "metadata": {},
   "outputs": [
    {
     "name": "stdout",
     "output_type": "stream",
     "text": [
      "[1 3 5 7 9]\n"
     ]
    }
   ],
   "source": [
    "#Que 21\n",
    "def generate_range_array(start, stop, step):\n",
    "    return np.arange(start, stop + 1, step)\n",
    "arr = generate_range_array(1, 10, 2)\n",
    "print(arr)"
   ]
  },
  {
   "cell_type": "code",
   "execution_count": 103,
   "id": "4d03c914-6893-4d7c-bf81-b1c930c68478",
   "metadata": {},
   "outputs": [
    {
     "name": "stdout",
     "output_type": "stream",
     "text": [
      "[0.         0.11111111 0.22222222 0.33333333 0.44444444 0.55555556\n",
      " 0.66666667 0.77777778 0.88888889 1.        ]\n"
     ]
    }
   ],
   "source": [
    "#Que 22\n",
    "def generate_linear_space():\n",
    "    return np.linspace(0, 1, 10)\n",
    "arr = generate_linear_space()\n",
    "print(arr)"
   ]
  },
  {
   "cell_type": "code",
   "execution_count": 104,
   "id": "f89116af-955d-42f2-b2fb-e4d1ab54eb3b",
   "metadata": {},
   "outputs": [
    {
     "name": "stdout",
     "output_type": "stream",
     "text": [
      "[   1.            5.62341325   31.6227766   177.827941   1000.        ]\n"
     ]
    }
   ],
   "source": [
    "#Que 23\n",
    "def generate_log_space():\n",
    "    return np.logspace(0, 3, 5)\n",
    "arr = generate_log_space()\n",
    "print(arr)"
   ]
  },
  {
   "cell_type": "code",
   "execution_count": 105,
   "id": "6e4f830b-b1ea-4f43-84f8-489015a2543d",
   "metadata": {},
   "outputs": [
    {
     "name": "stdout",
     "output_type": "stream",
     "text": [
      "3rd element: 30\n"
     ]
    }
   ],
   "source": [
    "#QUE 26\n",
    "arr = np.array([10, 20, 30, 40, 50])\n",
    "third_element = arr[2] \n",
    "print(\"3rd element:\", third_element)"
   ]
  },
  {
   "cell_type": "code",
   "execution_count": 106,
   "id": "a47324c4-9c13-49c7-92ae-ae3f7efac0da",
   "metadata": {},
   "outputs": [
    {
     "name": "stdout",
     "output_type": "stream",
     "text": [
      "6\n"
     ]
    }
   ],
   "source": [
    "#Que 27\n",
    "array_2d = np.array([[1, 2, 3], [4, 5, 6], [7, 8, 9]])\n",
    "element = array_2d[1, 2] \n",
    "print( element)"
   ]
  },
  {
   "cell_type": "code",
   "execution_count": 107,
   "id": "49985eb1-a9f1-40db-b479-60bc58a53c29",
   "metadata": {},
   "outputs": [
    {
     "name": "stdout",
     "output_type": "stream",
     "text": [
      "[7 9]\n"
     ]
    }
   ],
   "source": [
    "#Que 28\n",
    "arr = np.array([1, 3, 5, 7, 9])\n",
    "a = arr[arr > 5]\n",
    "print(a)"
   ]
  },
  {
   "cell_type": "code",
   "execution_count": 108,
   "id": "51bddb02-d322-4fe3-bdcb-d98a955c4958",
   "metadata": {},
   "outputs": [
    {
     "name": "stdout",
     "output_type": "stream",
     "text": [
      "[30 40 50 60]\n"
     ]
    }
   ],
   "source": [
    "#Que 29\n",
    "arr = np.array([10, 20, 30, 40, 50, 60, 70])\n",
    "a = arr[2:6]\n",
    "print(a)"
   ]
  },
  {
   "cell_type": "code",
   "execution_count": 109,
   "id": "7bc2484e-bbc8-4272-a1aa-d861e314492c",
   "metadata": {},
   "outputs": [
    {
     "name": "stdout",
     "output_type": "stream",
     "text": [
      "[[2 3]\n",
      " [5 6]]\n"
     ]
    }
   ],
   "source": [
    "#Que 30\n",
    "a = np.array([\n",
    "    [1, 2, 3],\n",
    "    [4, 5, 6],\n",
    "    [7, 8, 9]\n",
    "])\n",
    "\n",
    "arr = a[0:2, 1:3] \n",
    "print(arr)"
   ]
  },
  {
   "cell_type": "code",
   "execution_count": 110,
   "id": "3d073b46-b465-42c6-9921-527dadb4abeb",
   "metadata": {},
   "outputs": [
    {
     "name": "stdout",
     "output_type": "stream",
     "text": [
      "[10 50 90]\n"
     ]
    }
   ],
   "source": [
    "#Que 31\n",
    "arr= np.array([[10, 20, 30],[40, 50, 60],[70, 80, 90]])\n",
    "row_indices = [0, 1, 2]\n",
    "col_indices = [0, 1, 2]\n",
    "result = arr[row_indices, col_indices]\n",
    "print(result)"
   ]
  },
  {
   "cell_type": "code",
   "execution_count": 111,
   "id": "adc2db26-b96f-42d2-9fee-a0e118603141",
   "metadata": {},
   "outputs": [
    {
     "name": "stdout",
     "output_type": "stream",
     "text": [
      "6 : [ 8 12  7]\n"
     ]
    }
   ],
   "source": [
    "#QUe 32\n",
    "arr = np.array([5, 8, 12, 3, 7])\n",
    "threshold = 6\n",
    "filtered = arr[arr > threshold]\n",
    "print( threshold, \":\", filtered)"
   ]
  },
  {
   "cell_type": "code",
   "execution_count": 112,
   "id": "eadfd754-d2c8-4ac5-8863-423e5b1a35ff",
   "metadata": {},
   "outputs": [
    {
     "name": "stdout",
     "output_type": "stream",
     "text": [
      "[4 5]\n"
     ]
    }
   ],
   "source": [
    "#Que 33\n",
    "arr_3d = np.array([[[1, 2], [3, 4]],[[5, 6], [7, 8]]])\n",
    "i = np.array([0, 1])\n",
    "j = np.array([1, 0])\n",
    "k = np.array([1, 0])\n",
    "result = arr_3d[i, j, k]\n",
    "print(result)"
   ]
  },
  {
   "cell_type": "code",
   "execution_count": 113,
   "id": "0e5e94dd-6f39-473c-87b1-0badb64e2576",
   "metadata": {},
   "outputs": [
    {
     "name": "stdout",
     "output_type": "stream",
     "text": [
      "[20 25]\n"
     ]
    }
   ],
   "source": [
    "#Que 34\n",
    "arr = np.array([10, 15, 20, 25, 30])\n",
    "result = arr[(arr > 15) & (arr < 30)]\n",
    "print(result)"
   ]
  },
  {
   "cell_type": "code",
   "execution_count": 114,
   "id": "a7857f03-c1f5-4a80-851e-79ed9e0eb982",
   "metadata": {},
   "outputs": [
    {
     "name": "stdout",
     "output_type": "stream",
     "text": [
      "Selected elements: [30 40 80]\n"
     ]
    }
   ],
   "source": [
    "#Que 35\n",
    "array_2d = np.array([[10, 20, 30],[40, 50, 60],[70, 80, 90]])\n",
    "row_indices = np.array([0, 1, 2])\n",
    "col_indices = np.array([2, 0, 1])\n",
    "result = array_2d[row_indices, col_indices]\n",
    "print(\"Selected elements:\", result)\n"
   ]
  },
  {
   "cell_type": "code",
   "execution_count": 115,
   "id": "a9371d69-1875-4f17-b1b2-3d9cefa02f22",
   "metadata": {},
   "outputs": [
    {
     "name": "stdout",
     "output_type": "stream",
     "text": [
      "[ 6  7  8  9 10]\n"
     ]
    }
   ],
   "source": [
    "#Que 36\n",
    "arr = np.array([1, 2, 3, 4, 5])\n",
    "result = arr + 5\n",
    "print(result)"
   ]
  },
  {
   "cell_type": "code",
   "execution_count": 116,
   "id": "e713d5ad-bc2c-4eff-82e1-267b80832111",
   "metadata": {},
   "outputs": [
    {
     "name": "stdout",
     "output_type": "stream",
     "text": [
      "[[ 1  2  3  4]\n",
      " [10 12 14 16]\n",
      " [27 30 33 36]]\n"
     ]
    }
   ],
   "source": [
    "#Que 37\n",
    "arr = np.array([[1, 2, 3, 4],[5, 6, 7, 8], [9, 10, 11, 12]])\n",
    "factors = np.array([[1], [2], [3]])\n",
    "result = arr * factors \n",
    "print(result)"
   ]
  },
  {
   "cell_type": "code",
   "execution_count": 117,
   "id": "50c758fc-b46b-4bee-9625-8556e91ae75e",
   "metadata": {},
   "outputs": [
    {
     "name": "stdout",
     "output_type": "stream",
     "text": [
      "[[11 22 33]\n",
      " [14 25 36]\n",
      " [17 28 39]\n",
      " [20 31 42]]\n"
     ]
    }
   ],
   "source": [
    "#Que 38\n",
    "arr = np.array([[1, 2, 3],[4, 5, 6],[7, 8, 9],[10, 11, 12]])\n",
    "to_add = np.array([[10, 20, 30]])  # Shape: (1, 3)\n",
    "result = arr + to_add\n",
    "print( result)"
   ]
  },
  {
   "cell_type": "code",
   "execution_count": 118,
   "id": "a1418507-8687-4a74-ad58-e280b542b22b",
   "metadata": {},
   "outputs": [
    {
     "name": "stdout",
     "output_type": "stream",
     "text": [
      "[[11 21 31]\n",
      " [12 22 32]\n",
      " [13 23 33]]\n"
     ]
    }
   ],
   "source": [
    "#Que 39\n",
    "a = np.array([[1], [2], [3]])\n",
    "b = np.array([[10, 20, 30]])  \n",
    "result = a + b \n",
    "print(result)"
   ]
  },
  {
   "cell_type": "code",
   "execution_count": 119,
   "id": "f6158305-9eaa-4d06-bec5-0fcfde54fce6",
   "metadata": {},
   "outputs": [
    {
     "name": "stdout",
     "output_type": "stream",
     "text": [
      "operands could not be broadcast together with shapes (2,3) (2,2) \n"
     ]
    }
   ],
   "source": [
    "#Que 40\n",
    "a = np.array([[1, 2, 3],[4, 5, 6]])\n",
    "b = np.array([[1, 2],[3, 4]])  \n",
    "try:\n",
    "    result = a * b  \n",
    "except ValueError as e:\n",
    "    print( e)"
   ]
  },
  {
   "cell_type": "code",
   "execution_count": 120,
   "id": "bb8c3773-7239-4f95-8d8d-66052008613d",
   "metadata": {},
   "outputs": [
    {
     "name": "stdout",
     "output_type": "stream",
     "text": [
      "[40. 50. 60.]\n"
     ]
    }
   ],
   "source": [
    "#Que 41\n",
    "arr = np.array([[10, 20, 30],\n",
    "                [40, 50, 60],\n",
    "                [70, 80, 90]])\n",
    "\n",
    "col_mean = np.mean(arr, axis=0)\n",
    "print(col_mean)"
   ]
  },
  {
   "cell_type": "code",
   "execution_count": 121,
   "id": "5420e657-5007-40d9-8eae-aba4b9bd6674",
   "metadata": {},
   "outputs": [
    {
     "data": {
      "text/plain": [
       "array([[10, 20, 30],\n",
       "       [40, 50, 60],\n",
       "       [70, 80, 90]])"
      ]
     },
     "execution_count": 121,
     "metadata": {},
     "output_type": "execute_result"
    }
   ],
   "source": [
    "arr"
   ]
  },
  {
   "cell_type": "code",
   "execution_count": 122,
   "id": "a945da9c-222f-4513-99e0-777fdf51f89b",
   "metadata": {},
   "outputs": [
    {
     "name": "stdout",
     "output_type": "stream",
     "text": [
      "[30 60 90]\n"
     ]
    }
   ],
   "source": [
    "#Que 42\n",
    "row_max = np.max(arr, axis=1)\n",
    "print(row_max)"
   ]
  },
  {
   "cell_type": "code",
   "execution_count": 123,
   "id": "ce39fe70-27f8-4d8d-9f8b-6135b2ba9d61",
   "metadata": {},
   "outputs": [
    {
     "name": "stdout",
     "output_type": "stream",
     "text": [
      "[2 2 2]\n"
     ]
    }
   ],
   "source": [
    "#Que 43\n",
    "max_indices = np.argmax(arr, axis=0)\n",
    "print(max_indices)"
   ]
  },
  {
   "cell_type": "code",
   "execution_count": 124,
   "id": "48830ef5-3b58-4518-86df-546c8ca5bdf9",
   "metadata": {},
   "outputs": [
    {
     "name": "stdout",
     "output_type": "stream",
     "text": [
      "[ True  True  True]\n"
     ]
    }
   ],
   "source": [
    "#Que 45\n",
    "all_even = np.all(arr % 2 == 0, axis=0)\n",
    "print(all_even)"
   ]
  },
  {
   "cell_type": "code",
   "execution_count": 125,
   "id": "f0ed34f1-64f3-4ead-9909-f34f09e8a58a",
   "metadata": {},
   "outputs": [
    {
     "name": "stdout",
     "output_type": "stream",
     "text": [
      "[[1 2 3]\n",
      " [4 5 6]]\n"
     ]
    }
   ],
   "source": [
    "#Que 46\n",
    "arr = np.array([1, 2, 3, 4, 5, 6])\n",
    "a= arr.reshape(2, 3)\n",
    "print(a)"
   ]
  },
  {
   "cell_type": "code",
   "execution_count": 126,
   "id": "ba47095c-5533-4ecf-a5e0-93e0197ef0c7",
   "metadata": {},
   "outputs": [
    {
     "name": "stdout",
     "output_type": "stream",
     "text": [
      "[1 2 3 4]\n"
     ]
    }
   ],
   "source": [
    "#Que 47\n",
    "a = np.array([[1, 2], [3, 4]])\n",
    "flattened = a.flatten()\n",
    "\n",
    "print(flattened)"
   ]
  },
  {
   "cell_type": "code",
   "execution_count": 127,
   "id": "4b0eeba2-1ce1-4a41-ba27-2be11200f7de",
   "metadata": {},
   "outputs": [
    {
     "name": "stdout",
     "output_type": "stream",
     "text": [
      "a [[1 2]\n",
      " [3 4]\n",
      " [5 6]\n",
      " [7 8]]\n",
      "b [[1 2 5 6]\n",
      " [3 4 7 8]]\n"
     ]
    }
   ],
   "source": [
    "#Que 48\n",
    "a = np.array([[1, 2], [3, 4]])\n",
    "b = np.array([[5, 6], [7, 8]])\n",
    "concat_axis0 = np.concatenate((a, b), axis=0)\n",
    "concat_axis1 = np.concatenate((a, b), axis=1)\n",
    "print('a',concat_axis0)\n",
    "print('b',concat_axis1)"
   ]
  },
  {
   "cell_type": "code",
   "execution_count": 128,
   "id": "90b17b47-805c-47c2-b81f-907bd4568021",
   "metadata": {},
   "outputs": [
    {
     "name": "stdout",
     "output_type": "stream",
     "text": [
      "[[1 2]\n",
      " [5 6]]\n",
      "[[3 4]\n",
      " [7 8]]\n"
     ]
    }
   ],
   "source": [
    "#Que 49\n",
    "arr = np.array([[1, 2, 3, 4],[5, 6, 7, 8]])\n",
    "a = np.split(arr, 2, axis=1)\n",
    "for i in a:\n",
    "    print(i)"
   ]
  },
  {
   "cell_type": "code",
   "execution_count": 129,
   "id": "2cb5e725-2043-4d4e-97be-da85e728cea9",
   "metadata": {},
   "outputs": [
    {
     "name": "stdout",
     "output_type": "stream",
     "text": [
      "a [10 20 25 30 40 50]\n",
      "b [10 20 30 50]\n"
     ]
    }
   ],
   "source": [
    "#Que 50\n",
    "arr = np.array([10, 20, 30, 40, 50])\n",
    "inserted = np.insert(arr, 2, 25)\n",
    "deleted = np.delete(arr, 3)\n",
    "print('a',inserted)\n",
    "print('b',deleted)"
   ]
  },
  {
   "cell_type": "code",
   "execution_count": 130,
   "id": "5a2d0768-ef8a-4209-ab48-afb628caf95d",
   "metadata": {},
   "outputs": [],
   "source": [
    "arr1 = np.array([2, 4, 6, 8])\n",
    "arr2 = np.array([1, 2, 3, 4])"
   ]
  },
  {
   "cell_type": "code",
   "execution_count": 131,
   "id": "9a945343-4f11-4b74-8709-f246c39b275b",
   "metadata": {},
   "outputs": [
    {
     "name": "stdout",
     "output_type": "stream",
     "text": [
      "[ 3  6  9 12]\n"
     ]
    }
   ],
   "source": [
    "#Que 51\n",
    "a = arr1 + arr2\n",
    "print(a)"
   ]
  },
  {
   "cell_type": "code",
   "execution_count": 132,
   "id": "14759baf-e021-4e6e-ad1a-bfa28bdee9f2",
   "metadata": {},
   "outputs": [
    {
     "name": "stdout",
     "output_type": "stream",
     "text": [
      "[1 2 3 4]\n"
     ]
    }
   ],
   "source": [
    "#Que 52\n",
    "sub = arr1-arr2\n",
    "print(sub)"
   ]
  },
  {
   "cell_type": "code",
   "execution_count": 133,
   "id": "21352566-401b-474d-9488-eb5e10e62e08",
   "metadata": {},
   "outputs": [
    {
     "name": "stdout",
     "output_type": "stream",
     "text": [
      "[ 2  8 18 32]\n"
     ]
    }
   ],
   "source": [
    "#Que 53\n",
    "mul = arr1*arr2\n",
    "print(mul)"
   ]
  },
  {
   "cell_type": "code",
   "execution_count": 134,
   "id": "c4a750af-eb1a-4e79-9075-5d80f31dcc62",
   "metadata": {},
   "outputs": [
    {
     "name": "stdout",
     "output_type": "stream",
     "text": [
      "[2. 2. 2. 2.]\n"
     ]
    }
   ],
   "source": [
    "#Que 54\n",
    "div = arr1/arr2\n",
    "print(div)"
   ]
  },
  {
   "cell_type": "code",
   "execution_count": 135,
   "id": "7003258e-98c7-41df-b20f-cc88f7a59b1e",
   "metadata": {},
   "outputs": [
    {
     "name": "stdout",
     "output_type": "stream",
     "text": [
      "[   2   16  216 4096]\n"
     ]
    }
   ],
   "source": [
    "#Que 55\n",
    "expo=arr1**arr2\n",
    "print(expo)"
   ]
  },
  {
   "cell_type": "code",
   "execution_count": 136,
   "id": "13d8f3e9-1735-4b86-ada1-cdb99c1272c9",
   "metadata": {},
   "outputs": [],
   "source": [
    "arr = np.array([\"Hello World\", \"Python PROGRAMMING\", \"HELLO\", \"data123\", \"NumPy\"])"
   ]
  },
  {
   "cell_type": "code",
   "execution_count": 137,
   "id": "4de2c005-df8c-4406-ba7d-f114f08c3eaf",
   "metadata": {},
   "outputs": [
    {
     "name": "stdout",
     "output_type": "stream",
     "text": [
      "[2 1 0 0 0]\n"
     ]
    }
   ],
   "source": [
    "#Que 56\n",
    "substring = \"o\"\n",
    "counts = np.char.count(arr, substring)\n",
    "print( counts)"
   ]
  },
  {
   "cell_type": "code",
   "execution_count": 138,
   "id": "2a017c19-05f4-4fe9-b9eb-27eda780f457",
   "metadata": {},
   "outputs": [
    {
     "name": "stdout",
     "output_type": "stream",
     "text": [
      "['HW' 'PPROGRAMMING' 'HELLO' '' 'NP']\n"
     ]
    }
   ],
   "source": [
    "#Que 57\n",
    "def extract_uppercase(array):\n",
    "    return np.array([''.join([char for char in s if char.isupper()]) for s in array])\n",
    "a = extract_uppercase(arr)\n",
    "print(a)"
   ]
  },
  {
   "cell_type": "code",
   "execution_count": 139,
   "id": "6e60f1c0-cedf-451c-bb43-8457a914ac10",
   "metadata": {},
   "outputs": [
    {
     "name": "stdout",
     "output_type": "stream",
     "text": [
      "['Hi World' 'Python PROGRAMMING' 'HELLO' 'data123' 'NumPy']\n"
     ]
    }
   ],
   "source": [
    "#Que 58\n",
    "replaced = np.char.replace(arr, \"Hello\", \"Hi\")\n",
    "print( replaced)"
   ]
  },
  {
   "cell_type": "code",
   "execution_count": 140,
   "id": "529e08ed-8110-4352-bc75-c0829708f857",
   "metadata": {},
   "outputs": [
    {
     "name": "stdout",
     "output_type": "stream",
     "text": [
      "['Hello World!' 'Python PROGRAMMING is fun' 'HELLO AGAIN' 'data123_456'\n",
      " 'NumPy Array']\n"
     ]
    }
   ],
   "source": [
    "#Que 59\n",
    "arr2 = np.array([\"!\", \" is fun\", \" AGAIN\", \"_456\", \" Array\"])\n",
    "concatenated = np.char.add(arr, arr2)\n",
    "print(concatenated)"
   ]
  },
  {
   "cell_type": "code",
   "execution_count": 141,
   "id": "3d07ae19-ddb2-489a-b5a9-f2a1897de3d5",
   "metadata": {},
   "outputs": [
    {
     "name": "stdout",
     "output_type": "stream",
     "text": [
      "18\n"
     ]
    }
   ],
   "source": [
    "#Que 56\n",
    "lengths = np.char.str_len(arr)\n",
    "max_length = np.max(lengths)\n",
    "print(max_length)"
   ]
  },
  {
   "cell_type": "code",
   "execution_count": 142,
   "id": "fb75ee6c-d929-4ec2-bb4e-15a64c7c5867",
   "metadata": {},
   "outputs": [
    {
     "name": "stdout",
     "output_type": "stream",
     "text": [
      "Mean 52.04\n",
      "Median 52.0\n",
      "Variance 808.8384\n",
      "Sd 28.440084388060455\n"
     ]
    }
   ],
   "source": [
    "#Que 61\n",
    "arr = np.random.randint(1, 100, 50)\n",
    "mean = np.mean(arr)\n",
    "median = np.median(arr)\n",
    "variance = np.var(arr)\n",
    "std_dev = np.std(arr)\n",
    "print(\"Mean\", mean)\n",
    "print(\"Median\", median)\n",
    "print(\"Variance\", variance)\n",
    "print(\"Sd\", std_dev)\n"
   ]
  },
  {
   "cell_type": "code",
   "execution_count": 143,
   "id": "2606b4b7-cadc-4113-a923-8c3a0138c1f6",
   "metadata": {},
   "outputs": [
    {
     "name": "stdout",
     "output_type": "stream",
     "text": [
      "25th P 27.75\n",
      "75th P 79.75\n"
     ]
    }
   ],
   "source": [
    "#Que 62\n",
    "a= np.percentile(arr, 25)\n",
    "a1 = np.percentile(arr, 75)\n",
    "\n",
    "print(\"25th P\",a)\n",
    "print(\"75th P\",a1)"
   ]
  },
  {
   "cell_type": "code",
   "execution_count": 144,
   "id": "5d17a152-65a9-4211-bcbe-32611e817e55",
   "metadata": {},
   "outputs": [
    {
     "name": "stdout",
     "output_type": "stream",
     "text": [
      "0.006019739061474513\n"
     ]
    }
   ],
   "source": [
    "#Que 63\n",
    "arr2 = np.random.randint(1, 100, 50)\n",
    "\n",
    "a = np.corrcoef(arr,arr2)\n",
    "correlation = a[0, 1]\n",
    "\n",
    "print(correlation)"
   ]
  },
  {
   "cell_type": "code",
   "execution_count": 145,
   "id": "343ce5b0-52b8-4f8a-b64a-d6c400e1e297",
   "metadata": {},
   "outputs": [
    {
     "name": "stdout",
     "output_type": "stream",
     "text": [
      "[[19 22]\n",
      " [43 50]]\n"
     ]
    }
   ],
   "source": [
    "#Que 64\n",
    "A = np.array([[1, 2], [3, 4]])\n",
    "B = np.array([[5, 6], [7, 8]])\n",
    "product = np.dot(A, B)\n",
    "print(product)"
   ]
  },
  {
   "cell_type": "code",
   "execution_count": 146,
   "id": "caeeb451-59c2-45ca-89c6-9ba056741992",
   "metadata": {},
   "outputs": [
    {
     "name": "stdout",
     "output_type": "stream",
     "text": [
      "10th Percentile: 11.8\n",
      "50th Percentile (Median): 52.0\n",
      "90th Percentile: 87.0\n",
      "Q1 (25th Percentile): 27.75\n",
      "Q3 (75th Percentile): 79.75\n"
     ]
    }
   ],
   "source": [
    "#Que 65\n",
    "p10 = np.percentile(arr, 10)\n",
    "p50 = np.percentile(arr, 50)  # Median\n",
    "p90 = np.percentile(arr, 90)\n",
    "\n",
    "q1 = np.percentile(arr, 25)\n",
    "q3 = np.percentile(arr, 75)\n",
    "\n",
    "print(\"10th Percentile:\", p10)\n",
    "print(\"50th Percentile (Median):\", p50)\n",
    "print(\"90th Percentile:\", p90)\n",
    "print(\"Q1 (25th Percentile):\", q1)\n",
    "print(\"Q3 (75th Percentile):\", q3)"
   ]
  },
  {
   "cell_type": "code",
   "execution_count": 147,
   "id": "85b3cc23-bf2f-455b-9f7f-2e70ccc28260",
   "metadata": {},
   "outputs": [
    {
     "name": "stdout",
     "output_type": "stream",
     "text": [
      "Index of element 30: 2\n"
     ]
    }
   ],
   "source": [
    "#Que 66\n",
    "arr = np.array([10, 25, 30, 45, 60, 15, 35])\n",
    "index = np.where(arr == 30)[0]\n",
    "if index.size > 0:\n",
    "    print(\"Index of element 30:\", index[0])\n",
    "else:\n",
    "    print(\"Element not found.\")"
   ]
  },
  {
   "cell_type": "code",
   "execution_count": 148,
   "id": "72ef96fd-c07c-474a-85f0-62650ba1edf6",
   "metadata": {},
   "outputs": [
    {
     "name": "stdout",
     "output_type": "stream",
     "text": [
      "Sorted array: [ 7 17 33 35 38 38 40 48 63 67]\n"
     ]
    }
   ],
   "source": [
    "#Que 67\n",
    "rand = np.random.randint(1, 100, 10)\n",
    "sort = np.sort(rand)\n",
    "print(\"Sorted array:\", sort)"
   ]
  },
  {
   "cell_type": "code",
   "execution_count": 149,
   "id": "1011520a-ceda-4754-a6d3-825ffa6b5270",
   "metadata": {},
   "outputs": [
    {
     "name": "stdout",
     "output_type": "stream",
     "text": [
      "[25 30 45 60 35]\n"
     ]
    }
   ],
   "source": [
    "#Que 68\n",
    "greater_num = arr[arr > 20]\n",
    "print(greater_num)"
   ]
  },
  {
   "cell_type": "code",
   "execution_count": 150,
   "id": "cb197afb-f300-404e-83f1-4fee38965321",
   "metadata": {},
   "outputs": [
    {
     "name": "stdout",
     "output_type": "stream",
     "text": [
      "[30 45 60 15]\n"
     ]
    }
   ],
   "source": [
    "#Que 69\n",
    "div_by_3 = arr[arr % 3 == 0]\n",
    "print(div_by_3)"
   ]
  },
  {
   "cell_type": "code",
   "execution_count": 151,
   "id": "2add490d-c1b5-42ad-8b95-d0c1d8ff5e1a",
   "metadata": {},
   "outputs": [
    {
     "name": "stdout",
     "output_type": "stream",
     "text": [
      "[25 30 35]\n"
     ]
    }
   ],
   "source": [
    "#Que 70\n",
    "num = arr[(arr >= 20) & (arr <= 40)]\n",
    "print(num)"
   ]
  },
  {
   "cell_type": "code",
   "execution_count": 152,
   "id": "815b3de7-3438-4eec-84dd-afb2860b99ea",
   "metadata": {},
   "outputs": [
    {
     "name": "stdout",
     "output_type": "stream",
     "text": [
      "Byte order: native (depends on system)\n"
     ]
    }
   ],
   "source": [
    "#Que 71\n",
    "arr = np.array([1, 2, 3], dtype=np.int16)\n",
    "byte_order = arr.dtype.byteorder\n",
    "if byte_order == '=':\n",
    "    byte_order = 'native (depends on system)'\n",
    "elif byte_order == '<':\n",
    "    byte_order = 'little-endian'\n",
    "elif byte_order == '>':\n",
    "    byte_order = 'big-endian'\n",
    "\n",
    "print(\"Byte order:\", byte_order)"
   ]
  },
  {
   "cell_type": "code",
   "execution_count": 153,
   "id": "b99c5402-fd3f-4f8b-be10-005d4be872de",
   "metadata": {},
   "outputs": [
    {
     "name": "stdout",
     "output_type": "stream",
     "text": [
      "[  256     1 65535]\n"
     ]
    }
   ],
   "source": [
    "#Que 72\n",
    "arr = np.array([1, 256, 65535], dtype=np.uint16)\n",
    "arr.byteswap(inplace=True)\n",
    "print(arr)"
   ]
  },
  {
   "cell_type": "code",
   "execution_count": null,
   "id": "8d07ee92-d1f4-4f5f-b289-b1e0f1d660df",
   "metadata": {},
   "outputs": [],
   "source": []
  }
 ],
 "metadata": {
  "kernelspec": {
   "display_name": "Python 3 (ipykernel)",
   "language": "python",
   "name": "python3"
  },
  "language_info": {
   "codemirror_mode": {
    "name": "ipython",
    "version": 3
   },
   "file_extension": ".py",
   "mimetype": "text/x-python",
   "name": "python",
   "nbconvert_exporter": "python",
   "pygments_lexer": "ipython3",
   "version": "3.12.7"
  }
 },
 "nbformat": 4,
 "nbformat_minor": 5
}
