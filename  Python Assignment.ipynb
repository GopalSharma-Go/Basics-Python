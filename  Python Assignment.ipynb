{
 "cells": [
  {
   "cell_type": "code",
   "execution_count": 1,
   "id": "9798a349-8f17-4aa7-b60f-275be017f016",
   "metadata": {},
   "outputs": [
    {
     "name": "stdout",
     "output_type": "stream",
     "text": [
      "40\n"
     ]
    }
   ],
   "source": [
    "#1. Write a Python program to find the second largest number in a list without using the sort() method. \n",
    "\n",
    "lst = [10, 20, 40, 30, 50, 40]\n",
    "largest = second = float('-inf')\n",
    "for num in lst:\n",
    "    if num > largest:\n",
    "        second = largest\n",
    "        largest = num\n",
    "    elif largest > num > second:\n",
    "        second = num\n",
    "print(second)"
   ]
  },
  {
   "cell_type": "code",
   "execution_count": 2,
   "id": "7985c838-60cf-48f3-9b24-9d88450914db",
   "metadata": {},
   "outputs": [
    {
     "name": "stdout",
     "output_type": "stream",
     "text": [
      "[1, 2, 3, 4, 5]\n"
     ]
    }
   ],
   "source": [
    "#2Remove duplicates from a list without using set() and return it in sorted order\n",
    "lst = [4, 2, 5, 2, 3, 4, 1, 5]\n",
    "unique = []\n",
    "for num in lst:\n",
    "    if num not in unique:\n",
    "        unique.append(num)\n",
    "for i in range(len(unique)):\n",
    "    for j in range(i + 1, len(unique)):\n",
    "        if unique[i] > unique[j]:\n",
    "            unique[i], unique[j] = unique[j], unique[i]\n",
    "print(unique)"
   ]
  },
  {
   "cell_type": "code",
   "execution_count": 3,
   "id": "0cc45f13-0a3c-4ebd-bdba-fe2b3dab13d1",
   "metadata": {},
   "outputs": [
    {
     "name": "stdout",
     "output_type": "stream",
     "text": [
      "150\n",
      "30.0\n"
     ]
    }
   ],
   "source": [
    "#3Find the sum and average of a list of numbers.\n",
    "lst = [10, 20, 30, 40, 50]\n",
    "sum_val = 0\n",
    "for num in lst:\n",
    "    sum_val += num\n",
    "avg = sum_val / len(lst)\n",
    "print(sum_val)\n",
    "print(avg) "
   ]
  },
  {
   "cell_type": "code",
   "execution_count": 4,
   "id": "c3c405c3-3ab0-4273-9198-76b6f6cc8719",
   "metadata": {},
   "outputs": [
    {
     "name": "stdout",
     "output_type": "stream",
     "text": [
      "Prime\n"
     ]
    }
   ],
   "source": [
    "#.4 Create a program to check if a number is prime.\n",
    "num = 29\n",
    "if num > 1:\n",
    "    for i in range(2, int(num ** 0.5) + 1):\n",
    "        if num % i == 0:\n",
    "            print(\"Not Prime\")\n",
    "            break\n",
    "    else:\n",
    "        print(\"Prime\")\n",
    "else:\n",
    "    print(\"Not Prime\")"
   ]
  },
  {
   "cell_type": "code",
   "execution_count": 5,
   "id": "431c90db-afd8-4a72-a207-098ed613545e",
   "metadata": {},
   "outputs": [
    {
     "name": "stdout",
     "output_type": "stream",
     "text": [
      "3\n",
      "7\n",
      "3\n",
      "3\n"
     ]
    }
   ],
   "source": [
    "#5. Count the number of vowels, consonants, digits, and special characters in a given string. \n",
    "s = \"Hello World! 123\"\n",
    "vowels = consonants = digits = special = 0\n",
    "for ch in s:\n",
    "    if ch.isalpha():\n",
    "        if ch.lower() in 'aeiou':\n",
    "            vowels += 1\n",
    "        else:\n",
    "            consonants += 1\n",
    "    elif ch.isdigit():\n",
    "        digits += 1\n",
    "    else:\n",
    "        special += 1\n",
    "print(vowels)\n",
    "print(consonants)\n",
    "print(digits)\n",
    "print(special)"
   ]
  },
  {
   "cell_type": "code",
   "execution_count": 9,
   "id": "fdad938b-00bc-4dc4-84aa-bb211c275e24",
   "metadata": {},
   "outputs": [
    {
     "name": "stdout",
     "output_type": "stream",
     "text": [
      "2 4 6 8 10 12 14 16 18 20 22 24 26 28 30 32 34 36 38 40 42 44 46 48 50 52 54 56 58 60 62 64 66 68 70 72 74 76 78 80 82 84 86 88 90 92 94 96 98 100 \n"
     ]
    }
   ],
   "source": [
    "#6. Print all even numbers between 1 and 100 using a for loop.\n",
    "for i in range(1, 101):\n",
    "    if i % 2 == 0:\n",
    "        print(i, end=' ')\n",
    "print()"
   ]
  },
  {
   "cell_type": "code",
   "execution_count": 10,
   "id": "80bf993d-38e6-4bd5-9109-9542e8b25d1c",
   "metadata": {},
   "outputs": [
    {
     "name": "stdin",
     "output_type": "stream",
     "text": [
      "Enter number:  23\n"
     ]
    },
    {
     "name": "stdout",
     "output_type": "stream",
     "text": [
      "23 x 1 = 23\n",
      "23 x 2 = 46\n",
      "23 x 3 = 69\n",
      "23 x 4 = 92\n",
      "23 x 5 = 115\n",
      "23 x 6 = 138\n",
      "23 x 7 = 161\n",
      "23 x 8 = 184\n",
      "23 x 9 = 207\n",
      "23 x 10 = 230\n"
     ]
    }
   ],
   "source": [
    "#7. Write a program to print the multiplication table of a number entered by the user. \n",
    "num = int(input(\"Enter number: \"))\n",
    "for i in range(1, 11):\n",
    "    print(num, 'x', i, '=', num * i)"
   ]
  },
  {
   "cell_type": "code",
   "execution_count": 11,
   "id": "1eb51ceb-e78c-46fc-8a30-67890b6a909a",
   "metadata": {},
   "outputs": [
    {
     "name": "stdout",
     "output_type": "stream",
     "text": [
      "[15, 30, 45, 60, 75, 90]\n"
     ]
    }
   ],
   "source": [
    "#8. Create a list of numbers from 1 to 100 that are divisible by both 3 and 5. \n",
    "lst = []\n",
    "for i in range(1, 101):\n",
    "    if i % 3 == 0 and i % 5 == 0:\n",
    "        lst.append(i)\n",
    "print(lst)"
   ]
  },
  {
   "cell_type": "code",
   "execution_count": 12,
   "id": "e89ef8c7-e4f2-4a7b-82cf-736a49ea07d4",
   "metadata": {},
   "outputs": [
    {
     "name": "stdin",
     "output_type": "stream",
     "text": [
      "Enter number:  43\n"
     ]
    },
    {
     "name": "stdout",
     "output_type": "stream",
     "text": [
      "34\n"
     ]
    }
   ],
   "source": [
    "#9. Take a number input and print its reverse.\n",
    "num = int(input(\"Enter number: \"))\n",
    "rev = 0\n",
    "while num > 0:\n",
    "    rev = rev * 10 + num % 10\n",
    "    num = num // 10\n",
    "print(rev)\n"
   ]
  },
  {
   "cell_type": "code",
   "execution_count": 13,
   "id": "43da8087-a90e-42c1-9f92-a1aaa64d81a9",
   "metadata": {},
   "outputs": [
    {
     "name": "stdout",
     "output_type": "stream",
     "text": [
      "{'b': 1, 'a': 3, 'n': 2}\n"
     ]
    }
   ],
   "source": [
    "#10. Count the frequency of each character in a string and store it in a dictionary. \n",
    "s = \"banana\"\n",
    "freq = {}\n",
    "for ch in s:\n",
    "    if ch in freq:\n",
    "        freq[ch] += 1\n",
    "    else:\n",
    "        freq[ch] = 1\n",
    "print(freq)"
   ]
  },
  {
   "cell_type": "code",
   "execution_count": 14,
   "id": "45235898-76ea-4300-ad88-3b6d9a5cfbc2",
   "metadata": {},
   "outputs": [
    {
     "name": "stdout",
     "output_type": "stream",
     "text": [
      "2 3 5 7 11 13 17 19 23 29 \n"
     ]
    }
   ],
   "source": [
    "#11. Write a Python program to generate the first n prime numbers.\n",
    "n = 10\n",
    "count = 0\n",
    "num = 2\n",
    "while count < n:\n",
    "    for i in range(2, int(num ** 0.5) + 1):\n",
    "        if num % i == 0:\n",
    "            break\n",
    "    else:\n",
    "        print(num, end=' ')\n",
    "        count += 1\n",
    "    num += 1\n",
    "print()"
   ]
  },
  {
   "cell_type": "code",
   "execution_count": 15,
   "id": "2071027d-de25-422f-b7dc-8b128a0358aa",
   "metadata": {},
   "outputs": [
    {
     "name": "stdin",
     "output_type": "stream",
     "text": [
      "Enter number:  123\n"
     ]
    },
    {
     "name": "stdout",
     "output_type": "stream",
     "text": [
      "Not Palindrome\n"
     ]
    }
   ],
   "source": [
    "#12. Check whether a number is a palindrome or not. \n",
    "num = int(input(\"Enter number: \"))\n",
    "temp = num\n",
    "rev = 0\n",
    "while num > 0:\n",
    "    rev = rev * 10 + num % 10\n",
    "    num = num // 10\n",
    "if temp == rev:\n",
    "    print(\"Palindrome\")\n",
    "else:\n",
    "    print(\"Not Palindrome\")"
   ]
  },
  {
   "cell_type": "code",
   "execution_count": 16,
   "id": "81cee27f-cd67-4e0e-9e28-cdfb89275767",
   "metadata": {},
   "outputs": [
    {
     "name": "stdout",
     "output_type": "stream",
     "text": [
      "3\n"
     ]
    }
   ],
   "source": [
    "#13. Count how many times a specific element appears in a list. \n",
    "lst = [1, 2, 3, 2, 4, 2, 5]\n",
    "element = 2\n",
    "count = 0\n",
    "for num in lst:\n",
    "    if num == element:\n",
    "        count += 1\n",
    "print(count)"
   ]
  },
  {
   "cell_type": "code",
   "execution_count": 17,
   "id": "ef0e27f4-87b5-4142-9e5c-11c0a57fa47b",
   "metadata": {},
   "outputs": [
    {
     "name": "stdout",
     "output_type": "stream",
     "text": [
      "[4, 16, 36, 64, 100, 144, 196, 256, 324, 400, 484, 576, 676, 784, 900, 1024, 1156, 1296, 1444, 1600, 1764, 1936, 2116, 2304, 2500]\n"
     ]
    }
   ],
   "source": [
    "#14. Create a list of squares of even numbers between 1 and 50. \n",
    "lst = []\n",
    "for i in range(1, 51):\n",
    "    if i % 2 == 0:\n",
    "        lst.append(i ** 2)\n",
    "print(lst)"
   ]
  },
  {
   "cell_type": "code",
   "execution_count": 18,
   "id": "8be9bd5f-be7c-44b9-b8f8-35ff00dca2fc",
   "metadata": {},
   "outputs": [
    {
     "name": "stdout",
     "output_type": "stream",
     "text": [
      "[1, 2, 3, 4, 5]\n"
     ]
    }
   ],
   "source": [
    "#15. Accept a list and return a new list with only unique elements (preserve order). \n",
    "lst = [1, 2, 2, 3, 4, 4, 5]\n",
    "unique = []\n",
    "for num in lst:\n",
    "    if num not in unique:\n",
    "        unique.append(num)\n",
    "print(unique)"
   ]
  },
  {
   "cell_type": "code",
   "execution_count": 19,
   "id": "57dba45f-bb04-43a5-b180-050093fce60d",
   "metadata": {},
   "outputs": [
    {
     "name": "stdout",
     "output_type": "stream",
     "text": [
      "Odd\n"
     ]
    }
   ],
   "source": [
    "#� Section B: Functions (Q16–Q30) \n",
    "#16. Write a function to check if a number is even or odd.\n",
    "def check_even_odd(num):\n",
    "    if num % 2 == 0:\n",
    "        print(\"Even\")\n",
    "    else:\n",
    "        print(\"Odd\")\n",
    "check_even_odd(5)"
   ]
  },
  {
   "cell_type": "code",
   "execution_count": 20,
   "id": "e3b0f4b2-273d-4c50-8129-45e7b9ddc36e",
   "metadata": {},
   "outputs": [
    {
     "name": "stdout",
     "output_type": "stream",
     "text": [
      "[1, 3, 6, 10, 15]\n"
     ]
    }
   ],
   "source": [
    "#17. Create a function that takes a list of numbers and returns mcumulative sum\n",
    "def cumulative_sum(lst):\n",
    "    result = []\n",
    "    total = 0\n",
    "    for num in lst:\n",
    "        total += num\n",
    "        result.append(total)\n",
    "    return result\n",
    "print(cumulative_sum([1, 2, 3, 4, 5]))"
   ]
  },
  {
   "cell_type": "code",
   "execution_count": 21,
   "id": "916e013b-8bc6-4a4c-b29a-a9480653f4e2",
   "metadata": {},
   "outputs": [
    {
     "name": "stdout",
     "output_type": "stream",
     "text": [
      "120\n"
     ]
    }
   ],
   "source": [
    "#18. Write a recursive function to find the factorial of a number. \\\n",
    "def factorial(n):\n",
    "    if n == 0 or n == 1:\n",
    "        return 1\n",
    "    else:\n",
    "        return n * factorial(n - 1)\n",
    "print(factorial(5))\n"
   ]
  },
  {
   "cell_type": "code",
   "execution_count": 22,
   "id": "0b7eeb86-780a-4129-8ed1-5f4961bb29f6",
   "metadata": {},
   "outputs": [
    {
     "name": "stdout",
     "output_type": "stream",
     "text": [
      "0 1 1 2 3 5 8 13 21 34 "
     ]
    }
   ],
   "source": [
    "#19. Write a function to print the Fibonacci series up to n terms.\n",
    "def fibonacci(n):\n",
    "    a, b = 0, 1\n",
    "    for _ in range(n):\n",
    "        print(a, end=' ')\n",
    "        a, b = b, a + b\n",
    "fibonacci(10)\n"
   ]
  },
  {
   "cell_type": "code",
   "execution_count": 23,
   "id": "26014e57-b95d-4ef5-ada4-c2cf7db619f3",
   "metadata": {},
   "outputs": [
    {
     "name": "stdout",
     "output_type": "stream",
     "text": [
      "True\n"
     ]
    }
   ],
   "source": [
    "#20. Define a function that checks if a given string is a palindrome.\n",
    "def is_palindrome(s):\n",
    "    return s == s[::-1]\n",
    "print(is_palindrome(\"madam\"))\n"
   ]
  },
  {
   "cell_type": "code",
   "execution_count": 24,
   "id": "becdfe76-d30c-4f93-8ec8-086b50d4c3d0",
   "metadata": {},
   "outputs": [
    {
     "name": "stdout",
     "output_type": "stream",
     "text": [
      "(40, 10)\n"
     ]
    }
   ],
   "source": [
    "#21. Create a function that returns the maximum and minimum elements from a list.\n",
    "def max_min(lst):\n",
    "    return max(lst), min(lst)\n",
    "print(max_min([10, 20, 30, 40]))\n"
   ]
  },
  {
   "cell_type": "code",
   "execution_count": 25,
   "id": "985c9302-9972-47ed-aa06-6efc54ad5dc7",
   "metadata": {},
   "outputs": [
    {
     "name": "stdout",
     "output_type": "stream",
     "text": [
      "True\n"
     ]
    }
   ],
   "source": [
    "#22. Write a function to check whether a string is a pangram. \n",
    "def is_pangram(s):\n",
    "    alphabets = 'abcdefghijklmnopqrstuvwxyz'\n",
    "    for ch in alphabets:\n",
    "        if ch not in s.lower():\n",
    "            return False\n",
    "    return True\n",
    "print(is_pangram(\"The quick brown fox jumps over the lazy dog\"))"
   ]
  },
  {
   "cell_type": "code",
   "execution_count": 26,
   "id": "02994773-7936-4130-8964-4703435285a2",
   "metadata": {},
   "outputs": [
    {
     "name": "stdout",
     "output_type": "stream",
     "text": [
      "11 13 17 19 23 29 31 37 41 43 47 "
     ]
    }
   ],
   "source": [
    "#23. Create a function that finds and returns all prime numbers in a given range. \n",
    "def primes_in_range(start, end):\n",
    "    for num in range(start, end + 1):\n",
    "        for i in range(2, int(num ** 0.5) + 1):\n",
    "            if num % i == 0:\n",
    "                break\n",
    "        else:\n",
    "            if num > 1:\n",
    "                print(num, end=' ')\n",
    "primes_in_range(10, 50)"
   ]
  },
  {
   "cell_type": "code",
   "execution_count": 27,
   "id": "0df6add6-f8e6-4680-b6ce-43827d4fb019",
   "metadata": {},
   "outputs": [
    {
     "name": "stdout",
     "output_type": "stream",
     "text": [
      "(2, 8)\n"
     ]
    }
   ],
   "source": [
    "#24. Write a function to return the number of uppercase and lowercase letters in a string. \n",
    "def count_case(s):\n",
    "    upper = lower = 0\n",
    "    for ch in s:\n",
    "        if ch.isupper():\n",
    "            upper += 1\n",
    "        elif ch.islower():\n",
    "            lower += 1\n",
    "    return upper, lower\n",
    "print(count_case(\"Hello World\"))"
   ]
  },
  {
   "cell_type": "code",
   "execution_count": 29,
   "id": "07536501-26f9-49e6-a577-028fb3874486",
   "metadata": {},
   "outputs": [
    {
     "name": "stdout",
     "output_type": "stream",
     "text": [
      "10\n"
     ]
    }
   ],
   "source": [
    "# 25. Write a function to compute the sum of digits of a number. \n",
    "def sum_of_digits(num):\n",
    "    total = 0\n",
    "    while num > 0:\n",
    "        total += num % 10\n",
    "        num = num // 10\n",
    "    return total\n",
    "print(sum_of_digits(1234))"
   ]
  },
  {
   "cell_type": "code",
   "execution_count": 30,
   "id": "54ee256f-2162-4e9d-95cf-4c36b8cdb606",
   "metadata": {},
   "outputs": [
    {
     "name": "stdout",
     "output_type": "stream",
     "text": [
      "5\n"
     ]
    }
   ],
   "source": [
    "#26. Write a function to count words in a sentence.\n",
    "def count_words(sentence):\n",
    "    return len(sentence.split())\n",
    "print(count_words(\"Hello world this is python\"))"
   ]
  },
  {
   "cell_type": "code",
   "execution_count": 31,
   "id": "9126bd45-634c-40de-b3bb-d27eff7a4dbb",
   "metadata": {},
   "outputs": [
    {
     "name": "stdout",
     "output_type": "stream",
     "text": [
      "Hello How are you\n"
     ]
    }
   ],
   "source": [
    "#27. Create a function to remove all punctuation from a string.\n",
    "def remove_punctuation(s):\n",
    "    punct = \"!()-[]{};:'\\\"\\\\,<>./?@#$%^&*_~\"\n",
    "    result = ''\n",
    "    for ch in s:\n",
    "        if ch not in punct:\n",
    "            result += ch\n",
    "    return result\n",
    "\n",
    "print(remove_punctuation(\"Hello!!! How are you??\"))"
   ]
  },
  {
   "cell_type": "code",
   "execution_count": 32,
   "id": "1a3cff1e-a3df-422f-b7d0-c334a698f03b",
   "metadata": {},
   "outputs": [
    {
     "name": "stdout",
     "output_type": "stream",
     "text": [
      "12\n"
     ]
    }
   ],
   "source": [
    "#28. Create a function that finds the GCD (greatest common divisor) of two numbers.\n",
    "def gcd(a, b):\n",
    "    while b:\n",
    "        a, b = b, a % b\n",
    "    return a\n",
    "print(gcd(36, 60))"
   ]
  },
  {
   "cell_type": "code",
   "execution_count": 33,
   "id": "2f08b462-de81-42c0-b995-96e656f0f67f",
   "metadata": {},
   "outputs": [
    {
     "name": "stdout",
     "output_type": "stream",
     "text": [
      "[2, 4]\n"
     ]
    }
   ],
   "source": [
    "#29. Write a function that takes a list and returns only those elements that appear more than once. \n",
    "def duplicates(lst):\n",
    "    result = []\n",
    "    for num in lst:\n",
    "        if lst.count(num) > 1 and num not in result:\n",
    "            result.append(num)\n",
    "    return result\n",
    "print(duplicates([1, 2, 2, 3, 4, 4, 5]))"
   ]
  },
  {
   "cell_type": "code",
   "execution_count": 34,
   "id": "b895574e-ea01-43fc-af28-c912e01608e7",
   "metadata": {},
   "outputs": [
    {
     "name": "stdout",
     "output_type": "stream",
     "text": [
      "25\n"
     ]
    }
   ],
   "source": [
    "#30. Create a function to return the largest of three numbers. \n",
    "def largest(a, b, c):\n",
    "    return max(a, b, c)\n",
    "print(largest(10, 25, 15))"
   ]
  },
  {
   "cell_type": "code",
   "execution_count": 36,
   "id": "eeb28141-35fc-4082-bbbe-ac5db464bb2d",
   "metadata": {},
   "outputs": [
    {
     "name": "stdout",
     "output_type": "stream",
     "text": [
      "a is language powerful python\n"
     ]
    }
   ],
   "source": [
    "#�Section C: String, List, Dictionary & Tuple Operations (Q31–Q40) \n",
    "#31. Write a program to sort words in a sentence alphabetically.\n",
    "sentence = \"python is a powerful language\"\n",
    "words = sentence.split()\n",
    "words.sort()\n",
    "print(' '.join(words))"
   ]
  },
  {
   "cell_type": "code",
   "execution_count": 37,
   "id": "38fb0468-b9b0-4f30-ac25-f4d27973fb8e",
   "metadata": {},
   "outputs": [
    {
     "name": "stdout",
     "output_type": "stream",
     "text": [
      "{'a': 1, 'b': 2, 'c': 3, 'd': 4}\n"
     ]
    }
   ],
   "source": [
    "#32. Concatenate two dictionaries and print the result.\n",
    "d1 = {'a': 1, 'b': 2}\n",
    "d2 = {'c': 3, 'd': 4}\n",
    "d1.update(d2)\n",
    "print(d1)"
   ]
  },
  {
   "cell_type": "code",
   "execution_count": 38,
   "id": "d2401990-b5c8-4677-bfa1-9f8d9105a9bc",
   "metadata": {},
   "outputs": [
    {
     "name": "stdout",
     "output_type": "stream",
     "text": [
      "hello : 2\n",
      "world : 1\n",
      "amazing : 3\n",
      "day : 1\n"
     ]
    }
   ],
   "source": [
    "#33. Count how many vowels are present in each word of a sentence\n",
    "sentence = \"hello world amazing day\"\n",
    "words = sentence.split()\n",
    "for word in words:\n",
    "    count = 0\n",
    "    for ch in word:\n",
    "        if ch.lower() in 'aeiou':\n",
    "            count += 1\n",
    "    print(word, \":\", count)"
   ]
  },
  {
   "cell_type": "code",
   "execution_count": 39,
   "id": "448e0732-5a44-4376-abba-bf7ecdc6d5ed",
   "metadata": {},
   "outputs": [
    {
     "name": "stdout",
     "output_type": "stream",
     "text": [
      "[1, 2, 3, 4, 5]\n"
     ]
    }
   ],
   "source": [
    "#34. Accept a tuple and convert it into a list. \n",
    "tup = (1, 2, 3, 4, 5)\n",
    "lst = list(tup)\n",
    "print(lst)"
   ]
  },
  {
   "cell_type": "code",
   "execution_count": 40,
   "id": "3f11990c-8b28-477f-91ab-a20803147929",
   "metadata": {},
   "outputs": [
    {
     "name": "stdout",
     "output_type": "stream",
     "text": [
      "pythonisfun\n"
     ]
    }
   ],
   "source": [
    "#35. Remove all whitespace from a given string using a function\n",
    "def remove_whitespace(s):\n",
    "    return s.replace(\" \", \"\")\n",
    "print(remove_whitespace(\"python is fun\"))"
   ]
  },
  {
   "cell_type": "code",
   "execution_count": 41,
   "id": "77794018-ade0-49fd-8ef9-c2abc4c6b38d",
   "metadata": {},
   "outputs": [
    {
     "name": "stdout",
     "output_type": "stream",
     "text": [
      "{'name': 'Alice', 'age': 25, 'city': 'New York'}\n"
     ]
    }
   ],
   "source": [
    "#36. Merge two lists into a dictionary using one as keys and the other as values. \n",
    "keys = ['name', 'age', 'city']\n",
    "values = ['Alice', 25, 'New York']\n",
    "d = dict(zip(keys, values))\n",
    "print(d)"
   ]
  },
  {
   "cell_type": "code",
   "execution_count": 42,
   "id": "1f7ef1e1-fde6-4b8d-8b53-172f527c0517",
   "metadata": {},
   "outputs": [
    {
     "name": "stdout",
     "output_type": "stream",
     "text": [
      "b\n"
     ]
    }
   ],
   "source": [
    "#37. Write a program to get the key with the maximum value in a dictionary. \n",
    "d = {'a': 10, 'b': 50, 'c': 30}\n",
    "max_key = max(d, key=d.get)\n",
    "print(max_key)"
   ]
  },
  {
   "cell_type": "code",
   "execution_count": 43,
   "id": "b3947d25-2036-494c-8b4f-1ca6f5fcd4c7",
   "metadata": {},
   "outputs": [
    {
     "name": "stdout",
     "output_type": "stream",
     "text": [
      "{'this': 2, 'is': 2, 'a': 2, 'test': 2, 'only': 1}\n"
     ]
    }
   ],
   "source": [
    "#38. Accept a string and print a dictionary with word frequencies. \n",
    "sentence = \"this is a test this is only a test\"\n",
    "words = sentence.split()\n",
    "freq = {}\n",
    "for word in words:\n",
    "    if word in freq:\n",
    "        freq[word] += 1\n",
    "    else:\n",
    "        freq[word] = 1\n",
    "print(freq)"
   ]
  },
  {
   "cell_type": "code",
   "execution_count": 44,
   "id": "28aeea54-b949-4312-82b4-f2e60d4cfbc8",
   "metadata": {},
   "outputs": [
    {
     "name": "stdout",
     "output_type": "stream",
     "text": [
      "Exists\n"
     ]
    }
   ],
   "source": [
    "#39. Write a program to check if a key exists in a dictionary. \n",
    "d = {'name': 'Alice', 'age': 25}\n",
    "key = 'age'\n",
    "if key in d:\n",
    "    print(\"Exists\")\n",
    "else:\n",
    "    print(\"Does not exist\")\n"
   ]
  },
  {
   "cell_type": "code",
   "execution_count": 45,
   "id": "40d69434-acb5-4625-b7fa-c609f201530f",
   "metadata": {},
   "outputs": [
    {
     "name": "stdout",
     "output_type": "stream",
     "text": [
      "h*ll* w*rld\n"
     ]
    }
   ],
   "source": [
    "#40. Write a program to replace all the vowels in a string with \n",
    "s = \"hello world\"\n",
    "result = ''\n",
    "for ch in s:\n",
    "    if ch.lower() in 'aeiou':\n",
    "        result += '*'\n",
    "    else:\n",
    "        result += ch\n",
    "print(result)"
   ]
  },
  {
   "cell_type": "code",
   "execution_count": 46,
   "id": "ad486b45-3b12-45c0-9ba1-651d3f91dffc",
   "metadata": {},
   "outputs": [
    {
     "name": "stdout",
     "output_type": "stream",
     "text": [
      "This is a sample text file.\n",
      "It contains multiple lines.\n",
      "You can add more content as needed.\n"
     ]
    }
   ],
   "source": [
    "#Section D: File Handling (Q41–Q45) \n",
    "\n",
    "#41. Write a Python program to read the contents of a file and display it. \n",
    "try:\n",
    "    # First, create the file if it doesn't exist\n",
    "    with open('sample.txt', 'w') as f:\n",
    "        f.write(\"This is a sample text file.\\nIt contains multiple lines.\\nYou can add more content as needed.\")\n",
    "    \n",
    "    # Now read the file\n",
    "    with open('sample.txt', 'r') as f:\n",
    "        content = f.read()\n",
    "        print(content)\n",
    "except Exception as e:\n",
    "    print(f\"An error occurred: {e}\")\n"
   ]
  },
  {
   "cell_type": "code",
   "execution_count": 47,
   "id": "b8600184-f187-4f49-803f-8c99fdcdd538",
   "metadata": {},
   "outputs": [
    {
     "name": "stdout",
     "output_type": "stream",
     "text": [
      "17\n"
     ]
    }
   ],
   "source": [
    "#42. Count the number of words in a file. \n",
    "with open('sample.txt', 'r') as f:\n",
    "    content = f.read()\n",
    "    words = content.split()\n",
    "    print(len(words))"
   ]
  },
  {
   "cell_type": "code",
   "execution_count": 49,
   "id": "3da9f4ed-bdea-4819-885e-cd90b7889fcc",
   "metadata": {},
   "outputs": [],
   "source": [
    "#43. Copy contents of one file to another. \n",
    "with open('sample.txt', 'r') as f1, open('copy.txt', 'w') as f2:\n",
    "    content = f1.read()\n",
    "    f2.write(content)"
   ]
  },
  {
   "cell_type": "code",
   "execution_count": 51,
   "id": "6fc41623-7e2a-4e6d-b9cb-91030530b448",
   "metadata": {},
   "outputs": [],
   "source": [
    "#44. Print only the lines that have more than 50 characters from a text file. \n",
    "with open('sample.txt', 'r') as f:\n",
    "    for line in f:\n",
    "        if len(line.strip()) > 50:\n",
    "            print(line.strip())"
   ]
  },
  {
   "cell_type": "code",
   "execution_count": 52,
   "id": "6288e030-5854-4076-b690-7ff53d36146e",
   "metadata": {},
   "outputs": [],
   "source": [
    "#45. Write a program to write a list of strings into a text file (one string per line). \n",
    "lines = ['Hello World', 'Python is fun', 'File handling in Python']\n",
    "with open('output.txt', 'w') as f:\n",
    "    for line in lines:\n",
    "        f.write(line + '\\n')"
   ]
  },
  {
   "cell_type": "code",
   "execution_count": 54,
   "id": "9607c94e-ced7-4633-90ff-dfce775ccdf8",
   "metadata": {},
   "outputs": [
    {
     "name": "stdin",
     "output_type": "stream",
     "text": [
      "Enter numerator:  2345\n",
      "Enter denominator:  5432\n"
     ]
    },
    {
     "name": "stdout",
     "output_type": "stream",
     "text": [
      "0.43170103092783507\n"
     ]
    }
   ],
   "source": [
    "#46 Write a program to take two numbers as input and handle division by zero. \n",
    "try:\n",
    "    a = int(input(\"Enter numerator: \"))\n",
    "    b = int(input(\"Enter denominator: \"))\n",
    "    result = a / b\n",
    "    print(result)\n",
    "except ZeroDivisionError:\n",
    "    print(\"Cannot divide by zero!\")"
   ]
  },
  {
   "cell_type": "code",
   "execution_count": 55,
   "id": "65569054-a2fd-487f-8216-29aadf43467f",
   "metadata": {},
   "outputs": [
    {
     "name": "stdin",
     "output_type": "stream",
     "text": [
      "Enter a number:  34\n"
     ]
    },
    {
     "name": "stdout",
     "output_type": "stream",
     "text": [
      "You entered: 34\n"
     ]
    }
   ],
   "source": [
    "#47. Handle invalid user input (e.g., entering a string when a number is expected).\n",
    "try:\n",
    "    num = int(input(\"Enter a number: \"))\n",
    "    print(\"You entered:\", num)\n",
    "except ValueError:\n",
    "    print(\"Invalid input, please enter a number.\")"
   ]
  },
  {
   "cell_type": "code",
   "execution_count": 56,
   "id": "5b841fd2-e37a-4983-b128-3889e343856b",
   "metadata": {},
   "outputs": [
    {
     "name": "stdout",
     "output_type": "stream",
     "text": [
      "File not found!\n"
     ]
    }
   ],
   "source": [
    "#48. Try to open a file that doesn’t exist and handle the FileNotFoundError. \n",
    "try:\n",
    "    with open('nonexistent.txt', 'r') as f:\n",
    "        content = f.read()\n",
    "        print(content)\n",
    "except FileNotFoundError:\n",
    "    print(\"File not found!\")"
   ]
  },
  {
   "cell_type": "code",
   "execution_count": 57,
   "id": "9345ed68-6455-412c-9105-947a12bdb5b4",
   "metadata": {},
   "outputs": [
    {
     "name": "stdout",
     "output_type": "stream",
     "text": [
      "Index out of range!\n"
     ]
    }
   ],
   "source": [
    "#49. Create a list of numbers and try accessing an invalid index. Handle the exception gracefully. \n",
    "lst = [1, 2, 3, 4, 5]\n",
    "try:\n",
    "    print(lst[10])\n",
    "except IndexError:\n",
    "    print(\"Index out of range!\")"
   ]
  },
  {
   "cell_type": "code",
   "execution_count": 59,
   "id": "98455c1f-945c-4119-9cac-6d10921c21fb",
   "metadata": {},
   "outputs": [
    {
     "name": "stdin",
     "output_type": "stream",
     "text": [
      "Enter a number:  3\n"
     ]
    },
    {
     "name": "stdout",
     "output_type": "stream",
     "text": [
      "33.333333333333336\n",
      "This block always runs.\n"
     ]
    }
   ],
   "source": [
    "#50. Use a try-except-finally block to demonstrate the execution of the finally clause. \n",
    "try:\n",
    "    num = int(input(\"Enter a number: \"))\n",
    "    print(100 / num)\n",
    "except Exception as e:\n",
    "    print(\"Error:\", e)\n",
    "finally:\n",
    "    print(\"This block always runs.\")\n"
   ]
  },
  {
   "cell_type": "code",
   "execution_count": null,
   "id": "0af637cf-9151-4f09-88ca-3bcfb89793bf",
   "metadata": {},
   "outputs": [],
   "source": []
  }
 ],
 "metadata": {
  "kernelspec": {
   "display_name": "Python 3 (ipykernel)",
   "language": "python",
   "name": "python3"
  },
  "language_info": {
   "codemirror_mode": {
    "name": "ipython",
    "version": 3
   },
   "file_extension": ".py",
   "mimetype": "text/x-python",
   "name": "python",
   "nbconvert_exporter": "python",
   "pygments_lexer": "ipython3",
   "version": "3.12.7"
  }
 },
 "nbformat": 4,
 "nbformat_minor": 5
}
